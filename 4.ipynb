{
 "cells": [
  {
   "cell_type": "code",
   "execution_count": 1,
   "metadata": {},
   "outputs": [
    {
     "name": "stdout",
     "output_type": "stream",
     "text": [
      "Requirement already satisfied: pygame in c:\\users\\naman\\appdata\\local\\programs\\python\\python311\\lib\\site-packages (2.5.1)\n",
      "Note: you may need to restart the kernel to use updated packages.\n"
     ]
    }
   ],
   "source": [
    "pip install pygame"
   ]
  },
  {
   "cell_type": "code",
   "execution_count": 1,
   "metadata": {},
   "outputs": [
    {
     "name": "stdout",
     "output_type": "stream",
     "text": [
      "pygame 2.5.1 (SDL 2.28.2, Python 3.11.2)\n",
      "Hello from the pygame community. https://www.pygame.org/contribute.html\n"
     ]
    }
   ],
   "source": [
    "import pandas as pd\n",
    "import cv2\n",
    "import time\n",
    "from datetime import datetime\n",
    "import pygame\n",
    "\n",
    "# Initialize Pygame for sound\n",
    "pygame.mixer.init()\n",
    "alarm_sound = pygame.mixer.Sound('D:\\DSA\\project\\ohhhh_yeah.mp3')  # Replace 'alarm.wav' with your sound file\n",
    "\n",
    "initial_state = None\n",
    "motion_track_list = [None, None]\n",
    "motion_time = []\n",
    "data_frame = pd.DataFrame(columns=[\"Initial\", \"Final\"])\n",
    "\n",
    "video = cv2.VideoCapture(0)\n",
    "\n",
    "# Motion sensitivity control (adjustable threshold)\n",
    "motion_sensitivity = 30  # Initial threshold\n",
    "\n",
    "# Folder to save frames on motion\n",
    "frame_save_path = \"motion_frames\"\n",
    "\n",
    "while True:\n",
    "    check, cur_frame = video.read()\n",
    "    var_motion = 0\n",
    "    gray_image = cv2.cvtColor(cur_frame, cv2.COLOR_BGR2GRAY)\n",
    "    gray_frame = cv2.GaussianBlur(gray_image, (21, 21), 0)\n",
    "\n",
    "    if initial_state is None:\n",
    "        initial_state = gray_frame\n",
    "        continue\n",
    "\n",
    "    differ_frame = cv2.absdiff(initial_state, gray_frame)\n",
    "    thresh_frame = cv2.threshold(differ_frame, motion_sensitivity, 255, cv2.THRESH_BINARY)[1]\n",
    "    thresh_frame = cv2.dilate(thresh_frame, None, iterations=2)\n",
    "\n",
    "    contours, _ = cv2.findContours(thresh_frame.copy(), cv2.RETR_EXTERNAL, cv2.CHAIN_APPROX_SIMPLE)\n",
    "\n",
    "    for contour in contours:\n",
    "        if cv2.contourArea(contour) < 10000:\n",
    "            continue\n",
    "        var_motion = 1\n",
    "        x, y, w, h = cv2.boundingRect(contour)\n",
    "        cv2.rectangle(cur_frame, (x, y), (x + w, y + h), (0, 255, 0), 3)\n",
    "\n",
    "        # Save the frame when motion is detected\n",
    "        if not cv2.imwrite(f\"{frame_save_path}/{datetime.now().strftime('%Y-%m-%d_%H-%M-%S')}.jpg\", cur_frame):\n",
    "            print(\"Error saving frame\")\n",
    "\n",
    "    motion_track_list.append(var_motion)\n",
    "    motion_track_list = motion_track_list[-2:]\n",
    "\n",
    "    if motion_track_list[-1] == 1 and motion_track_list[-2] == 0:\n",
    "        motion_time.append(datetime.now())\n",
    "        pygame.mixer.Sound.play(alarm_sound)  # Play the alarm sound when motion starts\n",
    "\n",
    "    if motion_track_list[-1] == 0 and motion_track_list[-2] == 1:\n",
    "        motion_time.append(datetime.now())\n",
    "\n",
    "    cv2.imshow(\"Gray Frame\", gray_frame)\n",
    "    cv2.imshow(\"Difference Frame\", differ_frame)\n",
    "    cv2.imshow(\"Threshold Frame\", thresh_frame)\n",
    "    cv2.imshow(\"Color Frame\", cur_frame)\n",
    "\n",
    "    wait_key = cv2.waitKey(1)\n",
    "\n",
    "    if wait_key == ord('m'):\n",
    "        if var_motion == 1:\n",
    "            motion_time.append(datetime.now())\n",
    "        break\n",
    "\n",
    "for a in range(0, len(motion_time), 2):\n",
    "    data_frame = data_frame.append({\"Initial\": motion_time[a], \"Final\": motion_time[a + 1]}, ignore_index=True)\n",
    "\n",
    "data_frame.to_csv(\"EachMovement.csv\")\n",
    "video.release()\n",
    "cv2.destroyAllWindows()\n"
   ]
  }
 ],
 "metadata": {
  "kernelspec": {
   "display_name": "Python 3",
   "language": "python",
   "name": "python3"
  },
  "language_info": {
   "codemirror_mode": {
    "name": "ipython",
    "version": 3
   },
   "file_extension": ".py",
   "mimetype": "text/x-python",
   "name": "python",
   "nbconvert_exporter": "python",
   "pygments_lexer": "ipython3",
   "version": "3.11.2"
  },
  "orig_nbformat": 4
 },
 "nbformat": 4,
 "nbformat_minor": 2
}
